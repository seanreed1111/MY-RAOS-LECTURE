{
 "cells": [
  {
   "cell_type": "code",
   "execution_count": 56,
   "metadata": {},
   "outputs": [],
   "source": [
    "%matplotlib inline\n",
    "import numpy as np\n",
    "import pandas as pd\n",
    "import statsmodels.formula.api as smf\n",
    "from scipy import stats\n",
    "\n",
    "from scipy.interpolate import griddata\n",
    "import matplotlib.pyplot as plt\n",
    "import seaborn as sns\n",
    "import os, json\n",
    "\n",
    "%config InlineBackend.figure_format = 'retina'\n",
    "plt.style.use(['seaborn-colorblind', 'seaborn-darkgrid'])"
   ]
  },
  {
   "cell_type": "code",
   "execution_count": 2,
   "metadata": {},
   "outputs": [
    {
     "name": "stdout",
     "output_type": "stream",
     "text": [
      "/Users/seanreed1/BAYESIAN-REPOS/MY-RAOS-LECTURE\n"
     ]
    }
   ],
   "source": [
    "!pwd"
   ]
  },
  {
   "cell_type": "code",
   "execution_count": 13,
   "metadata": {},
   "outputs": [],
   "source": [
    "elections = os.path.join(\"~\",\"BAYESIAN-REPOS\",\"MY-RAOS-LECTURE\", \"DATA\", \n",
    "                    \"ElectionsEconomy\")\n",
    "hibbs = os.path.join(\"data\",\"hibbs.dat\")"
   ]
  },
  {
   "cell_type": "code",
   "execution_count": 14,
   "metadata": {},
   "outputs": [
    {
     "name": "stdout",
     "output_type": "stream",
     "text": [
      "<class 'pandas.core.frame.DataFrame'>\n",
      "RangeIndex: 16 entries, 0 to 15\n",
      "Data columns (total 5 columns):\n",
      " #   Column               Non-Null Count  Dtype  \n",
      "---  ------               --------------  -----  \n",
      " 0   year                 16 non-null     int64  \n",
      " 1   growth               16 non-null     float64\n",
      " 2   inc_party_vote       16 non-null     float64\n",
      " 3   inc_party_candidate  16 non-null     object \n",
      " 4   other_candidate      16 non-null     object \n",
      "dtypes: float64(2), int64(1), object(2)\n",
      "memory usage: 768.0+ bytes\n"
     ]
    }
   ],
   "source": [
    "filepath = os.path.join(elections, hibbs)\n",
    "df = pd.read_csv(filepath, sep=\"\\s+\")\n",
    "df.rename(columns={'vote':'inc_party_vote'}, inplace=True)\n",
    "df.info()"
   ]
  },
  {
   "cell_type": "code",
   "execution_count": 15,
   "metadata": {},
   "outputs": [
    {
     "data": {
      "text/html": [
       "<div>\n",
       "<style scoped>\n",
       "    .dataframe tbody tr th:only-of-type {\n",
       "        vertical-align: middle;\n",
       "    }\n",
       "\n",
       "    .dataframe tbody tr th {\n",
       "        vertical-align: top;\n",
       "    }\n",
       "\n",
       "    .dataframe thead th {\n",
       "        text-align: right;\n",
       "    }\n",
       "</style>\n",
       "<table border=\"1\" class=\"dataframe\">\n",
       "  <thead>\n",
       "    <tr style=\"text-align: right;\">\n",
       "      <th></th>\n",
       "      <th>year</th>\n",
       "      <th>growth</th>\n",
       "      <th>inc_party_vote</th>\n",
       "      <th>inc_party_candidate</th>\n",
       "      <th>other_candidate</th>\n",
       "    </tr>\n",
       "  </thead>\n",
       "  <tbody>\n",
       "    <tr>\n",
       "      <th>0</th>\n",
       "      <td>1952</td>\n",
       "      <td>2.40</td>\n",
       "      <td>44.60</td>\n",
       "      <td>Stevenson</td>\n",
       "      <td>Eisenhower</td>\n",
       "    </tr>\n",
       "    <tr>\n",
       "      <th>1</th>\n",
       "      <td>1956</td>\n",
       "      <td>2.89</td>\n",
       "      <td>57.76</td>\n",
       "      <td>Eisenhower</td>\n",
       "      <td>Stevenson</td>\n",
       "    </tr>\n",
       "    <tr>\n",
       "      <th>2</th>\n",
       "      <td>1960</td>\n",
       "      <td>0.85</td>\n",
       "      <td>49.91</td>\n",
       "      <td>Nixon</td>\n",
       "      <td>Kennedy</td>\n",
       "    </tr>\n",
       "    <tr>\n",
       "      <th>3</th>\n",
       "      <td>1964</td>\n",
       "      <td>4.21</td>\n",
       "      <td>61.34</td>\n",
       "      <td>Johnson</td>\n",
       "      <td>Goldwater</td>\n",
       "    </tr>\n",
       "    <tr>\n",
       "      <th>4</th>\n",
       "      <td>1968</td>\n",
       "      <td>3.02</td>\n",
       "      <td>49.60</td>\n",
       "      <td>Humphrey</td>\n",
       "      <td>Nixon</td>\n",
       "    </tr>\n",
       "  </tbody>\n",
       "</table>\n",
       "</div>"
      ],
      "text/plain": [
       "   year  growth  inc_party_vote inc_party_candidate other_candidate\n",
       "0  1952    2.40           44.60           Stevenson      Eisenhower\n",
       "1  1956    2.89           57.76          Eisenhower       Stevenson\n",
       "2  1960    0.85           49.91               Nixon         Kennedy\n",
       "3  1964    4.21           61.34             Johnson       Goldwater\n",
       "4  1968    3.02           49.60            Humphrey           Nixon"
      ]
     },
     "execution_count": 15,
     "metadata": {},
     "output_type": "execute_result"
    }
   ],
   "source": [
    "df.head()"
   ]
  },
  {
   "cell_type": "code",
   "execution_count": 17,
   "metadata": {},
   "outputs": [
    {
     "name": "stderr",
     "output_type": "stream",
     "text": [
      "/Users/seanreed1/miniconda3/lib/python3.7/site-packages/scipy/stats/stats.py:1604: UserWarning: kurtosistest only valid for n>=20 ... continuing anyway, n=16\n",
      "  \"anyway, n=%i\" % int(n))\n"
     ]
    },
    {
     "data": {
      "text/html": [
       "<table class=\"simpletable\">\n",
       "<caption>OLS Regression Results</caption>\n",
       "<tr>\n",
       "  <th>Dep. Variable:</th>     <td>inc_party_vote</td>  <th>  R-squared:         </th> <td>   0.580</td>\n",
       "</tr>\n",
       "<tr>\n",
       "  <th>Model:</th>                   <td>OLS</td>       <th>  Adj. R-squared:    </th> <td>   0.550</td>\n",
       "</tr>\n",
       "<tr>\n",
       "  <th>Method:</th>             <td>Least Squares</td>  <th>  F-statistic:       </th> <td>   19.32</td>\n",
       "</tr>\n",
       "<tr>\n",
       "  <th>Date:</th>             <td>Fri, 02 Oct 2020</td> <th>  Prob (F-statistic):</th> <td>0.000610</td>\n",
       "</tr>\n",
       "<tr>\n",
       "  <th>Time:</th>                 <td>10:32:40</td>     <th>  Log-Likelihood:    </th> <td> -42.839</td>\n",
       "</tr>\n",
       "<tr>\n",
       "  <th>No. Observations:</th>      <td>    16</td>      <th>  AIC:               </th> <td>   89.68</td>\n",
       "</tr>\n",
       "<tr>\n",
       "  <th>Df Residuals:</th>          <td>    14</td>      <th>  BIC:               </th> <td>   91.22</td>\n",
       "</tr>\n",
       "<tr>\n",
       "  <th>Df Model:</th>              <td>     1</td>      <th>                     </th>     <td> </td>   \n",
       "</tr>\n",
       "<tr>\n",
       "  <th>Covariance Type:</th>      <td>nonrobust</td>    <th>                     </th>     <td> </td>   \n",
       "</tr>\n",
       "</table>\n",
       "<table class=\"simpletable\">\n",
       "<tr>\n",
       "      <td></td>         <th>coef</th>     <th>std err</th>      <th>t</th>      <th>P>|t|</th>  <th>[0.025</th>    <th>0.975]</th>  \n",
       "</tr>\n",
       "<tr>\n",
       "  <th>Intercept</th> <td>   46.2476</td> <td>    1.622</td> <td>   28.514</td> <td> 0.000</td> <td>   42.769</td> <td>   49.726</td>\n",
       "</tr>\n",
       "<tr>\n",
       "  <th>growth</th>    <td>    3.0605</td> <td>    0.696</td> <td>    4.396</td> <td> 0.001</td> <td>    1.567</td> <td>    4.554</td>\n",
       "</tr>\n",
       "</table>\n",
       "<table class=\"simpletable\">\n",
       "<tr>\n",
       "  <th>Omnibus:</th>       <td> 5.392</td> <th>  Durbin-Watson:     </th> <td>   2.379</td>\n",
       "</tr>\n",
       "<tr>\n",
       "  <th>Prob(Omnibus):</th> <td> 0.067</td> <th>  Jarque-Bera (JB):  </th> <td>   2.828</td>\n",
       "</tr>\n",
       "<tr>\n",
       "  <th>Skew:</th>          <td>-0.961</td> <th>  Prob(JB):          </th> <td>   0.243</td>\n",
       "</tr>\n",
       "<tr>\n",
       "  <th>Kurtosis:</th>      <td> 3.738</td> <th>  Cond. No.          </th> <td>    4.54</td>\n",
       "</tr>\n",
       "</table><br/><br/>Warnings:<br/>[1] Standard Errors assume that the covariance matrix of the errors is correctly specified."
      ],
      "text/plain": [
       "<class 'statsmodels.iolib.summary.Summary'>\n",
       "\"\"\"\n",
       "                            OLS Regression Results                            \n",
       "==============================================================================\n",
       "Dep. Variable:         inc_party_vote   R-squared:                       0.580\n",
       "Model:                            OLS   Adj. R-squared:                  0.550\n",
       "Method:                 Least Squares   F-statistic:                     19.32\n",
       "Date:                Fri, 02 Oct 2020   Prob (F-statistic):           0.000610\n",
       "Time:                        10:32:40   Log-Likelihood:                -42.839\n",
       "No. Observations:                  16   AIC:                             89.68\n",
       "Df Residuals:                      14   BIC:                             91.22\n",
       "Df Model:                           1                                         \n",
       "Covariance Type:            nonrobust                                         \n",
       "==============================================================================\n",
       "                 coef    std err          t      P>|t|      [0.025      0.975]\n",
       "------------------------------------------------------------------------------\n",
       "Intercept     46.2476      1.622     28.514      0.000      42.769      49.726\n",
       "growth         3.0605      0.696      4.396      0.001       1.567       4.554\n",
       "==============================================================================\n",
       "Omnibus:                        5.392   Durbin-Watson:                   2.379\n",
       "Prob(Omnibus):                  0.067   Jarque-Bera (JB):                2.828\n",
       "Skew:                          -0.961   Prob(JB):                        0.243\n",
       "Kurtosis:                       3.738   Cond. No.                         4.54\n",
       "==============================================================================\n",
       "\n",
       "Warnings:\n",
       "[1] Standard Errors assume that the covariance matrix of the errors is correctly specified.\n",
       "\"\"\""
      ]
     },
     "execution_count": 17,
     "metadata": {},
     "output_type": "execute_result"
    }
   ],
   "source": [
    "formula = 'inc_party_vote ~ growth'\n",
    "linear_model = smf.ols(formula=formula, data=df).fit()\n",
    "linear_model.summary()"
   ]
  },
  {
   "cell_type": "markdown",
   "metadata": {},
   "source": []
  },
  {
   "cell_type": "markdown",
   "metadata": {},
   "source": [
    "[go here for the original graph from RAOS --> ElectionsEconomy.html](https://avehtari.github.io/ROS-Examples/ElectionsEconomy/hibbs.html)"
   ]
  },
  {
   "cell_type": "markdown",
   "metadata": {},
   "source": [
    "### Plot of the linear regression model\n",
    "\n",
    "### inc_party_vote = 46.25 + 3.06 * growth"
   ]
  },
  {
   "cell_type": "code",
   "execution_count": 31,
   "metadata": {},
   "outputs": [
    {
     "data": {
      "text/plain": [
       "<seaborn.axisgrid.FacetGrid at 0x1a1f97c9d0>"
      ]
     },
     "execution_count": 31,
     "metadata": {},
     "output_type": "execute_result"
    },
    {
     "data": {
      "image/png": "[encoded data removed]",
      "text/plain": [
       "<Figure size 360x360 with 1 Axes>"
      ]
     },
     "metadata": {
      "image/png": {
       "height": 354,
       "width": 353
      }
     },
     "output_type": "display_data"
    }
   ],
   "source": [
    "sns.lmplot(x='growth', y='inc_party_vote', data=df, ci=False)"
   ]
  },
  {
   "cell_type": "markdown",
   "metadata": {},
   "source": [
    "Now let's make our first model with CmdStanPy"
   ]
  },
  {
   "cell_type": "code",
   "execution_count": 50,
   "metadata": {},
   "outputs": [],
   "source": [
    "from cmdstanpy import CmdStanModel\n",
    "import json"
   ]
  },
  {
   "cell_type": "code",
   "execution_count": null,
   "metadata": {},
   "outputs": [],
   "source": [
    "we need to make a stan file, and then compile into a CmdStanModel"
   ]
  },
  {
   "cell_type": "markdown",
   "metadata": {},
   "source": [
    "We need three sections, one for the input data, one for the model parameters (and priors), and one for the stan model itself "
   ]
  },
  {
   "cell_type": "code",
   "execution_count": 80,
   "metadata": {},
   "outputs": [],
   "source": [
    "election = '''\n",
    "data {\n",
    "  int<lower=0> N;\n",
    "  vector[N] growth;\n",
    "  vector[N] inc_party_vote;\n",
    "}\n",
    "parameters {\n",
    "  real alpha;\n",
    "  real beta;\n",
    "  real<lower=0> sigma;\n",
    "}\n",
    "model {\n",
    "  inc_party_vote ~ normal(alpha + beta * growth, sigma);\n",
    "}\n",
    "\n",
    "'''"
   ]
  },
  {
   "cell_type": "code",
   "execution_count": 81,
   "metadata": {},
   "outputs": [],
   "source": [
    "with open('election.stan', 'wt') as f:\n",
    "    f.write(election)"
   ]
  },
  {
   "cell_type": "markdown",
   "metadata": {},
   "source": [
    "Now we need to write the election data as json"
   ]
  },
  {
   "cell_type": "code",
   "execution_count": 55,
   "metadata": {},
   "outputs": [
    {
     "data": {
      "text/html": [
       "<div>\n",
       "<style scoped>\n",
       "    .dataframe tbody tr th:only-of-type {\n",
       "        vertical-align: middle;\n",
       "    }\n",
       "\n",
       "    .dataframe tbody tr th {\n",
       "        vertical-align: top;\n",
       "    }\n",
       "\n",
       "    .dataframe thead th {\n",
       "        text-align: right;\n",
       "    }\n",
       "</style>\n",
       "<table border=\"1\" class=\"dataframe\">\n",
       "  <thead>\n",
       "    <tr style=\"text-align: right;\">\n",
       "      <th></th>\n",
       "      <th>growth</th>\n",
       "      <th>inc_party_vote</th>\n",
       "    </tr>\n",
       "  </thead>\n",
       "  <tbody>\n",
       "    <tr>\n",
       "      <th>0</th>\n",
       "      <td>2.40</td>\n",
       "      <td>44.60</td>\n",
       "    </tr>\n",
       "    <tr>\n",
       "      <th>1</th>\n",
       "      <td>2.89</td>\n",
       "      <td>57.76</td>\n",
       "    </tr>\n",
       "    <tr>\n",
       "      <th>2</th>\n",
       "      <td>0.85</td>\n",
       "      <td>49.91</td>\n",
       "    </tr>\n",
       "    <tr>\n",
       "      <th>3</th>\n",
       "      <td>4.21</td>\n",
       "      <td>61.34</td>\n",
       "    </tr>\n",
       "    <tr>\n",
       "      <th>4</th>\n",
       "      <td>3.02</td>\n",
       "      <td>49.60</td>\n",
       "    </tr>\n",
       "  </tbody>\n",
       "</table>\n",
       "</div>"
      ],
      "text/plain": [
       "   growth  inc_party_vote\n",
       "0    2.40           44.60\n",
       "1    2.89           57.76\n",
       "2    0.85           49.91\n",
       "3    4.21           61.34\n",
       "4    3.02           49.60"
      ]
     },
     "execution_count": 55,
     "metadata": {},
     "output_type": "execute_result"
    }
   ],
   "source": [
    "election = df[['growth', 'inc_party_vote']]\n",
    "\n",
    "election.head()"
   ]
  },
  {
   "cell_type": "code",
   "execution_count": null,
   "metadata": {},
   "outputs": [],
   "source": [
    "# #bernoulli_data.json\n",
    "\n",
    "# {\n",
    "#     \"N\" : 10,\n",
    "#     \"y\" : [0,1,0,0,0,0,0,0,0,1]\n",
    "# }"
   ]
  },
  {
   "cell_type": "code",
   "execution_count": 74,
   "metadata": {},
   "outputs": [
    {
     "data": {
      "text/plain": [
       "{'N': 16,\n",
       " 'growth': [2.4,\n",
       "  2.89,\n",
       "  0.85,\n",
       "  4.21,\n",
       "  3.02,\n",
       "  3.62,\n",
       "  1.08,\n",
       "  -0.39,\n",
       "  3.86,\n",
       "  2.27,\n",
       "  0.38,\n",
       "  1.04,\n",
       "  2.36,\n",
       "  1.72,\n",
       "  0.1,\n",
       "  0.95],\n",
       " 'inc_party_vote': [44.6,\n",
       "  57.76,\n",
       "  49.91,\n",
       "  61.34,\n",
       "  49.6,\n",
       "  61.79,\n",
       "  48.95,\n",
       "  44.7,\n",
       "  59.17,\n",
       "  53.94,\n",
       "  46.55,\n",
       "  54.74,\n",
       "  50.27,\n",
       "  51.24,\n",
       "  46.32,\n",
       "  52.0]}"
      ]
     },
     "execution_count": 74,
     "metadata": {},
     "output_type": "execute_result"
    }
   ],
   "source": [
    "election_data = {\"N\":len(election), \"growth\":list(election.growth),'inc_party_vote':list(election.inc_party_vote) }\n",
    "election_data"
   ]
  },
  {
   "cell_type": "code",
   "execution_count": 76,
   "metadata": {},
   "outputs": [],
   "source": [
    "with open('election_data.json', 'wt') as f:\n",
    "    f.write(json.dumps(election_data))"
   ]
  },
  {
   "cell_type": "code",
   "execution_count": 88,
   "metadata": {},
   "outputs": [],
   "source": [
    "from cmdstanpy import cmdstan_path, CmdStanModel, set_cmdstan_path"
   ]
  },
  {
   "cell_type": "code",
   "execution_count": 87,
   "metadata": {},
   "outputs": [
    {
     "data": {
      "text/plain": [
       "'/Users/seanreed1/.cmdstanpy/cmdstan-2.22.1'"
      ]
     },
     "execution_count": 87,
     "metadata": {},
     "output_type": "execute_result"
    }
   ],
   "source": [
    "cmdstan_path()"
   ]
  },
  {
   "cell_type": "code",
   "execution_count": null,
   "metadata": {},
   "outputs": [],
   "source": []
  },
  {
   "cell_type": "code",
   "execution_count": 82,
   "metadata": {},
   "outputs": [
    {
     "name": "stderr",
     "output_type": "stream",
     "text": [
      "INFO:cmdstanpy:compiling stan program, exe file: /Users/seanreed1/BAYESIAN-REPOS/MY-RAOS-LECTURE/election\n",
      "INFO:cmdstanpy:compiler options: stanc_options=None, cpp_options=None\n",
      "ERROR:cmdstanpy:file /Users/seanreed1/BAYESIAN-REPOS/MY-RAOS-LECTURE/election.stan, exception ERROR\n",
      " error: PCH file uses an older PCH format that is no longer supported\n",
      "1 error generated.\n",
      "make: *** [make/program:44: /Users/seanreed1/BAYESIAN-REPOS/MY-RAOS-LECTURE/election] Error 1 \n",
      "ERROR:cmdstanpy:model compilation failed\n"
     ]
    },
    {
     "ename": "ValueError",
     "evalue": "Unable to compile Stan model file: /Users/seanreed1/BAYESIAN-REPOS/MY-RAOS-LECTURE/election.stan.",
     "output_type": "error",
     "traceback": [
      "\u001b[0;31m---------------------------------------------------------------------------\u001b[0m",
      "\u001b[0;31mValueError\u001b[0m                                Traceback (most recent call last)",
      "\u001b[0;32m<ipython-input-82-45ba0ae01bd7>\u001b[0m in \u001b[0;36m<module>\u001b[0;34m\u001b[0m\n\u001b[0;32m----> 1\u001b[0;31m \u001b[0melection_model\u001b[0m \u001b[0;34m=\u001b[0m \u001b[0mCmdStanModel\u001b[0m\u001b[0;34m(\u001b[0m\u001b[0mstan_file\u001b[0m\u001b[0;34m=\u001b[0m\u001b[0;34m'election.stan'\u001b[0m\u001b[0;34m)\u001b[0m\u001b[0;34m\u001b[0m\u001b[0;34m\u001b[0m\u001b[0m\n\u001b[0m",
      "\u001b[0;32m~/miniconda3/lib/python3.7/site-packages/cmdstanpy/model.py\u001b[0m in \u001b[0;36m__init__\u001b[0;34m(self, model_name, stan_file, exe_file, compile, stanc_options, cpp_options, logger)\u001b[0m\n\u001b[1;32m    145\u001b[0m                 raise ValueError(\n\u001b[1;32m    146\u001b[0m                     'Unable to compile Stan model file: {}.'.format(\n\u001b[0;32m--> 147\u001b[0;31m                         \u001b[0mself\u001b[0m\u001b[0;34m.\u001b[0m\u001b[0m_stan_file\u001b[0m\u001b[0;34m\u001b[0m\u001b[0;34m\u001b[0m\u001b[0m\n\u001b[0m\u001b[1;32m    148\u001b[0m                     )\n\u001b[1;32m    149\u001b[0m                 )\n",
      "\u001b[0;31mValueError\u001b[0m: Unable to compile Stan model file: /Users/seanreed1/BAYESIAN-REPOS/MY-RAOS-LECTURE/election.stan."
     ]
    }
   ],
   "source": [
    "election_model = CmdStanModel(stan_file='election.stan')"
   ]
  },
  {
   "cell_type": "code",
   "execution_count": 85,
   "metadata": {},
   "outputs": [
    {
     "ename": "NameError",
     "evalue": "name 'model_path' is not defined",
     "output_type": "error",
     "traceback": [
      "\u001b[0;31m---------------------------------------------------------------------------\u001b[0m",
      "\u001b[0;31mNameError\u001b[0m                                 Traceback (most recent call last)",
      "\u001b[0;32m<ipython-input-85-d97267f872ff>\u001b[0m in \u001b[0;36m<module>\u001b[0;34m\u001b[0m\n\u001b[0;32m----> 1\u001b[0;31m \u001b[0mm\u001b[0m \u001b[0;34m=\u001b[0m \u001b[0mCmdStanModel\u001b[0m\u001b[0;34m(\u001b[0m\u001b[0mstr\u001b[0m\u001b[0;34m(\u001b[0m\u001b[0mmodel_path\u001b[0m\u001b[0;34m)\u001b[0m\u001b[0;34m)\u001b[0m\u001b[0;34m\u001b[0m\u001b[0;34m\u001b[0m\u001b[0m\n\u001b[0m\u001b[1;32m      2\u001b[0m \u001b[0mm\u001b[0m\u001b[0;34m\u001b[0m\u001b[0;34m\u001b[0m\u001b[0m\n",
      "\u001b[0;31mNameError\u001b[0m: name 'model_path' is not defined"
     ]
    }
   ],
   "source": [
    "m = CmdStanModel(str(model_path))\n",
    "m"
   ]
  },
  {
   "cell_type": "code",
   "execution_count": 83,
   "metadata": {},
   "outputs": [
    {
     "name": "stdout",
     "output_type": "stream",
     "text": [
      "\n",
      "data {\n",
      "  int<lower=0> N;\n",
      "  vector[N] growth;\n",
      "  vector[N] inc_party_vote;\n",
      "}\n",
      "parameters {\n",
      "  real alpha;\n",
      "  real beta;\n",
      "  real<lower=0> sigma;\n",
      "}\n",
      "model {\n",
      "  inc_party_vote ~ normal(alpha + beta * growth, sigma);\n",
      "}\n",
      "\n"
     ]
    }
   ],
   "source": [
    "!cat election.stan"
   ]
  },
  {
   "cell_type": "code",
   "execution_count": null,
   "metadata": {},
   "outputs": [],
   "source": []
  },
  {
   "cell_type": "code",
   "execution_count": null,
   "metadata": {},
   "outputs": [],
   "source": []
  },
  {
   "cell_type": "code",
   "execution_count": 47,
   "metadata": {},
   "outputs": [
    {
     "name": "stderr",
     "output_type": "stream",
     "text": [
      "INFO:cmdstanpy:found newer exe file, not recompiling\n",
      "INFO:cmdstanpy:compiled model file: /Users/seanreed1/.cmdstanpy/cmdstan-2.22.1/examples/bernoulli/bernoulli\n",
      "INFO:cmdstanpy:start chain 1\n",
      "INFO:cmdstanpy:start chain 2\n",
      "INFO:cmdstanpy:finish chain 1\n",
      "INFO:cmdstanpy:start chain 3\n",
      "INFO:cmdstanpy:finish chain 2\n",
      "INFO:cmdstanpy:start chain 4\n",
      "INFO:cmdstanpy:finish chain 3\n",
      "INFO:cmdstanpy:finish chain 4\n"
     ]
    },
    {
     "name": "stdout",
     "output_type": "stream",
     "text": [
      "CmdStanMCMC: model=bernoulli chains=4['method=sample', 'algorithm=hmc', 'adapt', 'engaged=1']\n",
      " csv_files:\n",
      "\t/Users/seanreed1/BAYESIAN-REPOS/MY-RAOS-LECTURE/bernoulli-202010021115-1.csv\n",
      "\t/Users/seanreed1/BAYESIAN-REPOS/MY-RAOS-LECTURE/bernoulli-202010021115-2.csv\n",
      "\t/Users/seanreed1/BAYESIAN-REPOS/MY-RAOS-LECTURE/bernoulli-202010021115-3.csv\n",
      "\t/Users/seanreed1/BAYESIAN-REPOS/MY-RAOS-LECTURE/bernoulli-202010021115-4.csv\n",
      " output_files:\n",
      "\t/Users/seanreed1/BAYESIAN-REPOS/MY-RAOS-LECTURE/bernoulli-202010021115-1-stdout.txt\n",
      "\t/Users/seanreed1/BAYESIAN-REPOS/MY-RAOS-LECTURE/bernoulli-202010021115-2-stdout.txt\n",
      "\t/Users/seanreed1/BAYESIAN-REPOS/MY-RAOS-LECTURE/bernoulli-202010021115-3-stdout.txt\n",
      "\t/Users/seanreed1/BAYESIAN-REPOS/MY-RAOS-LECTURE/bernoulli-202010021115-4-stdout.txt\n"
     ]
    },
    {
     "data": {
      "text/html": [
       "<div>\n",
       "<style scoped>\n",
       "    .dataframe tbody tr th:only-of-type {\n",
       "        vertical-align: middle;\n",
       "    }\n",
       "\n",
       "    .dataframe tbody tr th {\n",
       "        vertical-align: top;\n",
       "    }\n",
       "\n",
       "    .dataframe thead th {\n",
       "        text-align: right;\n",
       "    }\n",
       "</style>\n",
       "<table border=\"1\" class=\"dataframe\">\n",
       "  <thead>\n",
       "    <tr style=\"text-align: right;\">\n",
       "      <th></th>\n",
       "      <th>Mean</th>\n",
       "      <th>MCSE</th>\n",
       "      <th>StdDev</th>\n",
       "      <th>5%</th>\n",
       "      <th>50%</th>\n",
       "      <th>95%</th>\n",
       "      <th>N_Eff</th>\n",
       "      <th>N_Eff/s</th>\n",
       "      <th>R_hat</th>\n",
       "    </tr>\n",
       "    <tr>\n",
       "      <th>name</th>\n",
       "      <th></th>\n",
       "      <th></th>\n",
       "      <th></th>\n",
       "      <th></th>\n",
       "      <th></th>\n",
       "      <th></th>\n",
       "      <th></th>\n",
       "      <th></th>\n",
       "      <th></th>\n",
       "    </tr>\n",
       "  </thead>\n",
       "  <tbody>\n",
       "    <tr>\n",
       "      <th>lp__</th>\n",
       "      <td>-7.283240</td>\n",
       "      <td>0.017581</td>\n",
       "      <td>0.726826</td>\n",
       "      <td>-8.783130</td>\n",
       "      <td>-7.005600</td>\n",
       "      <td>-6.750150</td>\n",
       "      <td>1709.05</td>\n",
       "      <td>12629.8</td>\n",
       "      <td>1.00145</td>\n",
       "    </tr>\n",
       "    <tr>\n",
       "      <th>theta</th>\n",
       "      <td>0.245886</td>\n",
       "      <td>0.003179</td>\n",
       "      <td>0.119473</td>\n",
       "      <td>0.076325</td>\n",
       "      <td>0.231183</td>\n",
       "      <td>0.466909</td>\n",
       "      <td>1412.77</td>\n",
       "      <td>10440.3</td>\n",
       "      <td>1.00117</td>\n",
       "    </tr>\n",
       "  </tbody>\n",
       "</table>\n",
       "</div>"
      ],
      "text/plain": [
       "           Mean      MCSE    StdDev        5%       50%       95%    N_Eff  \\\n",
       "name                                                                         \n",
       "lp__  -7.283240  0.017581  0.726826 -8.783130 -7.005600 -6.750150  1709.05   \n",
       "theta  0.245886  0.003179  0.119473  0.076325  0.231183  0.466909  1412.77   \n",
       "\n",
       "       N_Eff/s    R_hat  \n",
       "name                     \n",
       "lp__   12629.8  1.00145  \n",
       "theta  10440.3  1.00117  "
      ]
     },
     "execution_count": 47,
     "metadata": {},
     "output_type": "execute_result"
    }
   ],
   "source": [
    "# import os\n",
    "from cmdstanpy import cmdstan_path, CmdStanModel\n",
    "\n",
    "\n",
    "election_model = CmdStanModel(stan_file='election.stan')\n",
    "election_model.name\n",
    "bernoulli_model.stan_file\n",
    "bernoulli_model.exe_file\n",
    "bernoulli_data = os.path.join(cmdstan_path(), 'examples', 'bernoulli', 'bernoulli.data.json')\n",
    "bern_fit = bernoulli_model.sample(data=bernoulli_data, output_dir='.')\n",
    "\n",
    "print(bern_fit)\n",
    "bern_fit.summary()"
   ]
  },
  {
   "cell_type": "code",
   "execution_count": null,
   "metadata": {},
   "outputs": [],
   "source": []
  },
  {
   "cell_type": "code",
   "execution_count": null,
   "metadata": {},
   "outputs": [],
   "source": []
  },
  {
   "cell_type": "code",
   "execution_count": null,
   "metadata": {},
   "outputs": [],
   "source": []
  },
  {
   "cell_type": "code",
   "execution_count": null,
   "metadata": {},
   "outputs": [],
   "source": []
  },
  {
   "cell_type": "code",
   "execution_count": 45,
   "metadata": {},
   "outputs": [
    {
     "name": "stdout",
     "output_type": "stream",
     "text": [
      "data { \n",
      "  int<lower=0> N; \n",
      "  int<lower=0,upper=1> y[N];\n",
      "} \n",
      "parameters {\n",
      "  real<lower=0,upper=1> theta;\n",
      "} \n",
      "model {\n",
      "  theta ~ beta(1,1);  // uniform prior on interval 0,1\n",
      "  y ~ bernoulli(theta);\n",
      "}\n",
      "\n"
     ]
    }
   ],
   "source": [
    "print(bernoulli_model.code())"
   ]
  },
  {
   "cell_type": "code",
   "execution_count": null,
   "metadata": {},
   "outputs": [],
   "source": []
  },
  {
   "cell_type": "code",
   "execution_count": null,
   "metadata": {},
   "outputs": [],
   "source": []
  },
  {
   "cell_type": "code",
   "execution_count": null,
   "metadata": {},
   "outputs": [],
   "source": []
  },
  {
   "cell_type": "code",
   "execution_count": null,
   "metadata": {},
   "outputs": [],
   "source": []
  },
  {
   "cell_type": "code",
   "execution_count": null,
   "metadata": {},
   "outputs": [],
   "source": [
    "# # bernoulli.stan\n",
    "\n",
    "# data { \n",
    "#   int<lower=0> N; \n",
    "#   int<lower=0,upper=1> y[N];\n",
    "# } \n",
    "# parameters {\n",
    "#   real<lower=0,upper=1> theta;\n",
    "# } \n",
    "# model {\n",
    "#   theta ~ beta(1,1);  // uniform prior on interval 0,1\n",
    "#   y ~ bernoulli(theta);\n",
    "# }"
   ]
  },
  {
   "cell_type": "code",
   "execution_count": 34,
   "metadata": {},
   "outputs": [],
   "source": [
    "# #bernoulli_data.json\n",
    "\n",
    "# {\n",
    "#     \"N\" : 10,\n",
    "#     \"y\" : [0,1,0,0,0,0,0,0,0,1]\n",
    "# }"
   ]
  },
  {
   "cell_type": "markdown",
   "metadata": {},
   "source": [
    "show using standard linear regression model with flat priors"
   ]
  },
  {
   "cell_type": "markdown",
   "metadata": {},
   "source": [
    "show using standard linear regression model with weakly informative priors"
   ]
  }
 ],
 "metadata": {
  "kernelspec": {
   "display_name": "Python 3",
   "language": "python",
   "name": "python3"
  },
  "language_info": {
   "codemirror_mode": {
    "name": "ipython",
    "version": 3
   },
   "file_extension": ".py",
   "mimetype": "text/x-python",
   "name": "python",
   "nbconvert_exporter": "python",
   "pygments_lexer": "ipython3",
   "version": "3.7.7"
  }
 },
 "nbformat": 4,
 "nbformat_minor": 4
}
